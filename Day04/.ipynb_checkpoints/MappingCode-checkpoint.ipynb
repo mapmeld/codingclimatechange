{
 "cells": [
  {
   "cell_type": "code",
   "execution_count": null,
   "metadata": {
    "collapsed": false
   },
   "outputs": [],
   "source": [
    "// npm install fast-csv canvas\n",
    "// to make images with node-canvas you need other dependencies on your computer: \n",
    "// https://github.com/Automattic/node-canvas/tree/v1.x#installation\n",
    "\n",
    "var csv = require('fast-csv');\n",
    "var canvas = require('canvas');\n",
    "\n",
    "var rows = [];\n",
    "csv.fromPath(\"SeaSurfaceTempDec15.csv\", { delimiter: ',', quote: '\"' })\n",
    "    .on(\"data\", function(row){\n",
    "        rows.push(row);\n",
    "    })\n",
    "    .on(\"error\", function(err) {\n",
    "        console.log(err);\n",
    "    })\n",
    "    .on(\"end\", finishMap);\n",
    "\n",
    "function finishMap() {\n",
    "    numRows = rows.length;\n",
    "    numCols = rows[0].length;\n",
    "    \n",
    "    let c = new canvas(numCols, numRows);\n",
    "    let ctx = c.getContext('2d');\n",
    "    let pixels = ctx.getImageData(0, 0, numCols, numRows);\n",
    "    \n",
    "    max = 0;\n",
    "    min = 99999;\n",
    "    \n",
    "    for (let x = 0; x < numCols; x++) {\n",
    "        for (let y = 0; y < numRows; y++) {\n",
    "            var cellValue = rows[y][x];\n",
    "            var setPixel = [];\n",
    "            \n",
    "            if (cellValue != 99999) {\n",
    "                max = Math.max(cellValue, max);\n",
    "                min = Math.min(cellValue, min);\n",
    "            }\n",
    "            if (cellValue <= 10) {\n",
    "                setPixel = [0, 0, 0];\n",
    "            }\n",
    "            else if (cellValue <= 100) {\n",
    "                setPixel = [0, 0, 225];\n",
    "            }\n",
    "            else {\n",
    "                setPixel = [0, 225, 0];\n",
    "            }\n",
    "            \n",
    "            if (setPixel.length) {\n",
    "                let initialPixel = 4 * (y * numCols + x);\n",
    "                pixels.data[initialPixel] = setPixel[0];\n",
    "                pixels.data[initialPixel + 1] = setPixel[1];\n",
    "                pixels.data[initialPixel + 2] = setPixel[2];\n",
    "                pixels.data[initialPixel + 3] = 255;\n",
    "            }\n",
    "        }\n",
    "    }\n",
    "    ctx.putImageData(pixels, 0, 0);\n",
    "\n",
    "    console.log(\"Minimum data value is \", min);\n",
    "    console.log(\"Maximum data value is \", max);\n",
    "    \n",
    "    $$png$$ = c.toDataURL().substring(22);\n",
    "    return $$png$$;\n",
    "}\n",
    "\n",
    "\"\";"
   ]
  },
  {
   "cell_type": "code",
   "execution_count": null,
   "metadata": {
    "collapsed": true
   },
   "outputs": [],
   "source": []
  }
 ],
 "metadata": {
  "kernelspec": {
   "display_name": "Javascript (Node.js)",
   "language": "javascript",
   "name": "javascript"
  },
  "language_info": {
   "file_extension": ".js",
   "mimetype": "application/javascript",
   "name": "javascript",
   "version": "7.4.0"
  }
 },
 "nbformat": 4,
 "nbformat_minor": 2
}
