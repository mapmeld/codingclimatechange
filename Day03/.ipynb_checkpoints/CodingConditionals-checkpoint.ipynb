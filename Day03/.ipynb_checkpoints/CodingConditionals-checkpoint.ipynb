{
 "cells": [
  {
   "cell_type": "code",
   "execution_count": null,
   "metadata": {
    "collapsed": false
   },
   "outputs": [],
   "source": [
    "n = 20;\n",
    "\n",
    "if (n == 30) {\n",
    "        console.log(\"Equal to 30\");\n",
    "} else {\n",
    "        console.log(\"Not equal to 30\");\n",
    "}"
   ]
  },
  {
   "cell_type": "code",
   "execution_count": null,
   "metadata": {
    "collapsed": false
   },
   "outputs": [],
   "source": [
    "// Used information from: http://nationalgeographic.org/media/endangered/\n",
    "// Panda census source:\n",
    "// http://wwf.panda.org/what_we_do/endangered_species/giant_panda/panda/how_many_are_left_in_the_wild_population/\n",
    "\n",
    "wildPandas = 1864;\n",
    "\n",
    "if (wildPandas > 10000) {\n",
    "    console.log(\"Not an endangered species\");\n",
    "} else if (wildPandas <= 2500) {\n",
    "    console.log(\"Endangered species\");\n",
    "} else if (wildPandas <= 250) {\n",
    "    console.log(\"CRITICALLY endangered\");\n",
    "} else if (wildPandas == 0) {\n",
    "    console.log(\"Extinct :(\");\n",
    "} else {\n",
    "    console.log(\"Make sure you are submitting a positive number\");\n",
    "}"
   ]
  },
  {
   "cell_type": "code",
   "execution_count": null,
   "metadata": {
    "collapsed": false
   },
   "outputs": [],
   "source": [
    "// letter grade code\n",
    "// Test it out by creating a variable named \"score\"\n",
    "// Then, modify the code so it includes \"D\"\n",
    "\n",
    "if (score >= 90) {\n",
    "    console.log(\"A\")\n",
    "} else if (score >= 80) {\n",
    "    console.log(\"B\")\n",
    "} else if (score >= 70) {\n",
    "    console.log(\"C\")\n",
    "} else {\n",
    "    console.log(\"F\");\n",
    "}\n"
   ]
  },
  {
   "cell_type": "code",
   "execution_count": null,
   "metadata": {
    "collapsed": true
   },
   "outputs": [],
   "source": [
    "/* Write code that reads a letter grade as a string and prints the following phrases:\n",
    " \"A\" -> \"Awesome job!\"\n",
    " \"B\" -> \"Well done!\"\n",
    " \"C\" -> \"You did okay.\"\n",
    " \"D\" -> \"Getting there.\"\n",
    " \"F\" -> \"Still need some work.\"\n",
    "*/"
   ]
  }
 ],
 "metadata": {
  "kernelspec": {
   "display_name": "Javascript (Node.js)",
   "language": "javascript",
   "name": "javascript"
  },
  "language_info": {
   "file_extension": ".js",
   "mimetype": "application/javascript",
   "name": "javascript",
   "version": "7.4.0"
  }
 },
 "nbformat": 4,
 "nbformat_minor": 2
}
