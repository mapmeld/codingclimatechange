{
 "cells": [
  {
   "cell_type": "code",
   "execution_count": null,
   "metadata": {
    "collapsed": false
   },
   "outputs": [],
   "source": [
    "// Plant\n",
    "num1 = 1;\n",
    "\n",
    "// Animal\n",
    "num2 = 5;\n",
    "\n",
    "// Soil\n",
    "num3 = 3;\n",
    "\n",
    "// Ground Water\n",
    "num4 = 10;\n",
    "\n",
    "// Lake\n",
    "num5 = 0;\n",
    "\n",
    "// River\n",
    "num6 = 0;\n",
    "\n",
    "// Glacier\n",
    "num7 = 0;\n",
    "\n",
    "// Ocean\n",
    "num8 = 0;\n",
    "\n",
    "// Clouds\n",
    "num9 = 0;\n",
    "\n",
    "// define our list and its labels. You need to fill in the numbers list.\n",
    "numbers = [num1, num2, num3, num4, num5, num6, num7, num8, num9];\n",
    "cycle = [\"Plant\", \"Animal\", \"Soil\", \"Ground Water\", \"Lake\", \"River\", \"Glacier\", \"Ocean\", \"Clouds\"];\n",
    "\n",
    "sum = 0;\n",
    "numbers.map(function(number) {\n",
    "    sum += number;\n",
    "});\n",
    "percentages = numbers.map(function(number) {\n",
    "    return number / sum * 100;\n",
    "});\n",
    "\n",
    "console.log(percentages);"
   ]
  },
  {
   "cell_type": "code",
   "execution_count": null,
   "metadata": {
    "collapsed": false
   },
   "outputs": [],
   "source": [
    "// make a bar chart printout\n",
    "var longestLabel = 0;\n",
    "for (var i = 0; i < cycle.length; i++) {\n",
    "    if (cycle[i].length > longestLabel) {\n",
    "        longestLabel = cycle[i].length;\n",
    "    }\n",
    "}\n",
    "\n",
    "for (var j = 0; j < cycle.length; j++) {\n",
    "    label = '';\n",
    "    for (var spacer = 0; spacer < (longestLabel - cycle[j].length); spacer++) {\n",
    "        label += ' ';\n",
    "    }\n",
    "    label += cycle[j];\n",
    "    bar = '';\n",
    "    for (var bpart = 0; bpart < numbers[j]; bpart++) {\n",
    "        bar += '|';\n",
    "    }\n",
    "    console.log(label + ' :' + bar);\n",
    "}\n"
   ]
  },
  {
   "cell_type": "code",
   "execution_count": null,
   "metadata": {
    "collapsed": false
   },
   "outputs": [],
   "source": [
    "// make a pie chart?\n"
   ]
  }
 ],
 "metadata": {
  "kernelspec": {
   "display_name": "Javascript (Node.js)",
   "language": "javascript",
   "name": "javascript"
  },
  "language_info": {
   "file_extension": ".js",
   "mimetype": "application/javascript",
   "name": "javascript",
   "version": "7.4.0"
  }
 },
 "nbformat": 4,
 "nbformat_minor": 2
}
