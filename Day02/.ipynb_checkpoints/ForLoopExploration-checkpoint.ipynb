{
 "cells": [
  {
   "cell_type": "code",
   "execution_count": null,
   "metadata": {
    "collapsed": false
   },
   "outputs": [],
   "source": [
    "// Modify this code so that it adds 3 to all the numbers in the list\n",
    "numbers = [2, 4, 7, 1, 3];\n",
    "\n",
    "numbers = numbers.map(function(number) {\n",
    "   return number * 5; \n",
    "});\n",
    "\n",
    "console.log(numbers);"
   ]
  },
  {
   "cell_type": "code",
   "execution_count": null,
   "metadata": {
    "collapsed": true
   },
   "outputs": [],
   "source": [
    "// Modify this code so that it adds 0 to the first number, 1 to the next number, 2 to the next number and so on.\n",
    "\n",
    "numbers = [2, 4, 7, 1, 3];\n",
    "\n",
    "for (let i = 0; i < numbers.length; i++) {\n",
    "    numbers[i] = numbers[i] * 5;\n",
    "}\n",
    "console.log(numbers);"
   ]
  },
  {
   "cell_type": "code",
   "execution_count": null,
   "metadata": {
    "collapsed": false
   },
   "outputs": [],
   "source": [
    "// The last program is a simplified version of the Habitable Planet simulation\n",
    "rIncrease = 0.02,\n",
    "CurrentRate = 8.9,\n",
    "\n",
    "Year = 2010,\n",
    "Atm = 750,\n",
    "Ocean = 39000,\n",
    "Bio = 2700,\n",
    "FFuel = 4000;\n",
    "\n",
    "while (Year < 2060) {\n",
    "    Total = 0;\n",
    "    \n",
    "    for (var j = 0; j < 10; j++) {\n",
    "        Total = Total + CurrentRate;\n",
    "        CurrentRate = CurrentRate + CurrentRate * rIncrease;\n",
    "    }\n",
    "    Atm = Atm + Total * 0.42;\n",
    "    Ocean = Ocean + Total * 0.45;\n",
    "    Bio = Bio + Total * 0.13;\n",
    "    FFuel = FFuel - Total;\n",
    "    console.log(Year);\n",
    "    console.log(\"Human Activity: \" + Total);\n",
    "    console.log(\"Atmosphere: \" + Atm);\n",
    "    console.log(\"Oceans: \" + Ocean);\n",
    "    console.log(\"Biosphere: \" + Bio);\n",
    "    console.log(\"Fossil Fuels: \" + FFuel);\n",
    "    Year = Year + 10;\n",
    "}"
   ]
  },
  {
   "cell_type": "code",
   "execution_count": null,
   "metadata": {
    "collapsed": true
   },
   "outputs": [],
   "source": []
  }
 ],
 "metadata": {
  "kernelspec": {
   "display_name": "Javascript (Node.js)",
   "language": "javascript",
   "name": "javascript"
  },
  "language_info": {
   "file_extension": ".js",
   "mimetype": "application/javascript",
   "name": "javascript",
   "version": "7.4.0"
  }
 },
 "nbformat": 4,
 "nbformat_minor": 2
}
