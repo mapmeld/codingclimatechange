{
 "cells": [
  {
   "cell_type": "code",
   "execution_count": null,
   "metadata": {
    "collapsed": false
   },
   "outputs": [],
   "source": [
    "// Numbers: Intergers and Floats\n",
    "\n",
    "num1 = 3\n",
    "num2 = 2.5\n",
    "num3 = 15\n",
    "\n",
    "console.log(num1 + num2)     // Adds numbers together\n",
    "console.log(num1 - num2)     // Subtract\n",
    "console.log(num3/num1)       // Divide\n",
    "console.log(num2*num3)       // Multiply"
   ]
  },
  {
   "cell_type": "code",
   "execution_count": null,
   "metadata": {
    "collapsed": true
   },
   "outputs": [],
   "source": [
    "// Strings\n",
    "\n",
    "w_vs_c_str = \"You dress for the weather. You build your house for the climate.\"\n",
    "\n",
    "console.log(w_vs_c_str)          // prints the string\n",
    "console.log(w_vs_c_str.length)   // number of characters in the string\n",
    "console.log(w_vs_c_str[0])       // prints the character at a specific spot in the string\n",
    "console.log(w_vs_c_str.substring(4, 9))\n",
    "console.log(w_vs_c_str + \" The climate is changing.\")      // Adds two strings together"
   ]
  },
  {
   "cell_type": "code",
   "execution_count": null,
   "metadata": {
    "collapsed": false
   },
   "outputs": [],
   "source": [
    "// Lists\n",
    "\n",
    "num_lst = [3, 7, 12, 18, 25, 33, 42]\n",
    "country_lst = [\"Kenya\", \"Morocco\", \"Indonesia\", \"Germany\"]\n",
    "\n",
    "console.log(num_lst)        // prints the list\n",
    "console.log(country_lst)\n",
    "console.log(num_lst.length)   // how many objects are in the list\n",
    "console.log(country_lst[2])     // prints the object at a specific spot in the list\n",
    "\n",
    "country_lst.push(\"Thailand\")       // adds an element to the list\n",
    "console.log(country_lst)"
   ]
  },
  {
   "cell_type": "code",
   "execution_count": null,
   "metadata": {
    "collapsed": true
   },
   "outputs": [],
   "source": []
  }
 ],
 "metadata": {
  "kernelspec": {
   "display_name": "Javascript (Node.js)",
   "language": "javascript",
   "name": "javascript"
  },
  "language_info": {
   "file_extension": ".js",
   "mimetype": "application/javascript",
   "name": "javascript",
   "version": "7.4.0"
  }
 },
 "nbformat": 4,
 "nbformat_minor": 2
}
